{
 "cells": [
  {
   "cell_type": "code",
   "execution_count": 14,
   "id": "7121306a-90cc-4b26-a8ce-fb328b324f70",
   "metadata": {},
   "outputs": [],
   "source": [
    "import sys\n",
    "import os\n",
    "sys.path.append(os.path.abspath(os.path.join(os.getcwd(), '..')))\n",
    "from src.text_data_utils.bert_embeddings import BertFeatureExtractor\n",
    "\n",
    "from sklearn.model_selection import train_test_split\n",
    "from sklearn.svm import SVC\n",
    "from sklearn.metrics import classification_report, accuracy_score\n",
    "import numpy as np\n",
    "import pandas as pd\n",
    "import joblib\n"
   ]
  },
  {
   "cell_type": "code",
   "execution_count": 15,
   "id": "2b36f6c0-bf86-47fc-b18f-b0d64a1f4998",
   "metadata": {},
   "outputs": [
    {
     "name": "stdout",
     "output_type": "stream",
     "text": [
      "testing imports\n",
      "[0.01987461 0.22270299 0.04914891 0.16725239 0.05101165 0.15957376\n",
      " 0.13974924 0.04377956 0.03756189 0.90402311]\n"
     ]
    }
   ],
   "source": [
    "print('testing imports')\n",
    "fp = '/home/ginger/code/gderiddershanghai/Diffusion-Face/data/text_data/cleaned_DFDB_Face_metadata.csv'\n",
    "df = pd.read_csv(fp)\n",
    "y_train = df['nsfw'].values\n",
    "print(y_train[:10])"
   ]
  },
  {
   "cell_type": "code",
   "execution_count": 16,
   "id": "020d3745-d298-487d-970f-a7ee807f1c6c",
   "metadata": {},
   "outputs": [
    {
     "name": "stderr",
     "output_type": "stream",
     "text": [
      "/home/ginger/.pyenv/versions/3.10.6/lib/python3.10/site-packages/huggingface_hub/file_download.py:797: FutureWarning: `resume_download` is deprecated and will be removed in version 1.0.0. Downloads always resume when possible. If you want to force a new download, use `force_download=True`.\n",
      "  warnings.warn(\n",
      "Some weights of the model checkpoint at bert-base-uncased were not used when initializing BertModel: ['cls.predictions.transform.LayerNorm.bias', 'cls.seq_relationship.bias', 'cls.predictions.transform.dense.weight', 'cls.seq_relationship.weight', 'cls.predictions.transform.dense.bias', 'cls.predictions.bias', 'cls.predictions.transform.LayerNorm.weight']\n",
      "- This IS expected if you are initializing BertModel from the checkpoint of a model trained on another task or with another architecture (e.g. initializing a BertForSequenceClassification model from a BertForPreTraining model).\n",
      "- This IS NOT expected if you are initializing BertModel from the checkpoint of a model that you expect to be exactly identical (initializing a BertForSequenceClassification model from a BertForSequenceClassification model).\n"
     ]
    },
    {
     "data": {
      "application/vnd.jupyter.widget-view+json": {
       "model_id": "df7f9280e74b488c9bda33155412773d",
       "version_major": 2,
       "version_minor": 0
      },
      "text/plain": [
       "  0%|          | 0/19551 [00:00<?, ?it/s]"
      ]
     },
     "metadata": {},
     "output_type": "display_data"
    }
   ],
   "source": [
    "# import Feature Extractor\n",
    "extractor = BertFeatureExtractor()\n",
    "# Get Mean Text Embeddings\n",
    "train_embeddings = extractor.transform(df, text_column='prompt')"
   ]
  },
  {
   "cell_type": "markdown",
   "id": "77b7f414-8128-4b46-9b9d-42090fec32d0",
   "metadata": {},
   "source": [
    "____"
   ]
  },
  {
   "cell_type": "code",
   "execution_count": 26,
   "id": "bf9e55e5-bde1-4a0c-b0d6-e75e5fcd11ee",
   "metadata": {},
   "outputs": [],
   "source": [
    "y_train = df['nsfw'].values\n",
    "X_train, X_val, y_train, y_val = train_test_split(train_embeddings, \n",
    "                                                  y_train, \n",
    "                                                  test_size=0.15, \n",
    "                                                  random_state=99)\n"
   ]
  },
  {
   "cell_type": "code",
   "execution_count": 23,
   "id": "6818dc89-2206-46df-b18d-5e5fd3c2d1e9",
   "metadata": {},
   "outputs": [
    {
     "data": {
      "text/plain": [
       "array([0, 0, 0, ..., 0, 0, 0])"
      ]
     },
     "execution_count": 23,
     "metadata": {},
     "output_type": "execute_result"
    }
   ],
   "source": [
    " np.where(y_val > thres, 1, 0)"
   ]
  },
  {
   "cell_type": "code",
   "execution_count": 24,
   "id": "9325d56c-b8df-4382-9650-14ff54e439f2",
   "metadata": {},
   "outputs": [
    {
     "data": {
      "text/plain": [
       "SVC(C=1, probability=True, random_state=42)"
      ]
     },
     "execution_count": 24,
     "metadata": {},
     "output_type": "execute_result"
    }
   ],
   "source": [
    "C = 1\n",
    "thres = 0.85\n",
    "y_val =  np.where(y_val > thres, 1, 0)\n",
    "y_train = np.where(y_train > thres, 1, 0)\n",
    "\n",
    "save_fp = f'/home/ginger/code/gderiddershanghai/Diffusion-Face/weights/nsfw_weights_{C}.pkl'\n",
    "svm_model = SVC(kernel='rbf', C=C, gamma='scale', random_state=42, probability=True)\n",
    "svm_model.fit(X_train, y_train)"
   ]
  },
  {
   "cell_type": "code",
   "execution_count": 25,
   "id": "52bc48f9-a835-40be-b97d-50ae8f9fcb3b",
   "metadata": {},
   "outputs": [
    {
     "name": "stdout",
     "output_type": "stream",
     "text": [
      "Val Acc:  0.9744289123764064\n",
      "              precision    recall  f1-score   support\n",
      "\n",
      "           0       0.98      1.00      0.99      2811\n",
      "           1       0.87      0.45      0.59       122\n",
      "\n",
      "    accuracy                           0.97      2933\n",
      "   macro avg       0.92      0.72      0.79      2933\n",
      "weighted avg       0.97      0.97      0.97      2933\n",
      "\n",
      "Model weights saved to 'svm_model_weights_c1.pkl'\n"
     ]
    }
   ],
   "source": [
    "y_val_pred = svm_model.predict_proba(X_val)\n",
    "y_val_pred = np.where(y_val_pred[:, 1] > thres, 1, 0)\n",
    "\n",
    "\n",
    "val_accuracy = accuracy_score(y_val, y_val_pred)\n",
    "print(\"Val Acc: \", val_accuracy)\n",
    "print(classification_report(y_val, y_val_pred))\n",
    "\n",
    "# save weights\n",
    "joblib.dump(svm_model, 'svm_model_weights.pkl')\n",
    "print(f\"Model weights saved to 'svm_model_weights_c{C}.pkl'\")"
   ]
  },
  {
   "cell_type": "code",
   "execution_count": 27,
   "id": "b6c33e70-5d4e-42ea-8514-d0d2ee1b0e5b",
   "metadata": {},
   "outputs": [],
   "source": [
    "y_val_pred = svm_model.predict_proba(X_val)"
   ]
  },
  {
   "cell_type": "code",
   "execution_count": 39,
   "id": "c75fe454-4785-41d2-8daf-16344cb3edd8",
   "metadata": {},
   "outputs": [
    {
     "ename": "AttributeError",
     "evalue": "'numpy.ndarray' object has no attribute 'index'",
     "output_type": "error",
     "traceback": [
      "\u001b[0;31m---------------------------------------------------------------------------\u001b[0m",
      "\u001b[0;31mAttributeError\u001b[0m                            Traceback (most recent call last)",
      "Cell \u001b[0;32mIn [39], line 1\u001b[0m\n\u001b[0;32m----> 1\u001b[0m \u001b[43mX_val\u001b[49m\u001b[38;5;241;43m.\u001b[39;49m\u001b[43mindex\u001b[49m\n",
      "\u001b[0;31mAttributeError\u001b[0m: 'numpy.ndarray' object has no attribute 'index'"
     ]
    }
   ],
   "source": [
    "X_val.index"
   ]
  },
  {
   "cell_type": "code",
   "execution_count": 33,
   "id": "590c563e-88c1-42b8-94d5-d0337ae91c99",
   "metadata": {},
   "outputs": [
    {
     "data": {
      "text/plain": [
       "array([ 163,  759, 2581, ...,  249, 1033, 2150])"
      ]
     },
     "execution_count": 33,
     "metadata": {},
     "output_type": "execute_result"
    }
   ],
   "source": [
    "np.abs(y_val_pred[:,1] - y_val).argsort()"
   ]
  },
  {
   "cell_type": "code",
   "execution_count": 36,
   "id": "1922bef6-a51e-4492-86a5-24f18f0a8c39",
   "metadata": {},
   "outputs": [
    {
     "data": {
      "text/plain": [
       "0.9483238232800131"
      ]
     },
     "execution_count": 36,
     "metadata": {},
     "output_type": "execute_result"
    }
   ],
   "source": [
    "np.abs(y_val_pred[:,1] - y_val)[1033]"
   ]
  },
  {
   "cell_type": "markdown",
   "id": "14410ee2-7a7f-4fd5-8f8a-8741ac25760b",
   "metadata": {},
   "source": [
    "_______________________"
   ]
  },
  {
   "cell_type": "code",
   "execution_count": 40,
   "id": "3a04ec36-98b1-4b2c-baaa-819c05ea3178",
   "metadata": {},
   "outputs": [
    {
     "name": "stdout",
     "output_type": "stream",
     "text": [
      "Val Acc:  0.9887487214456189\n",
      "              precision    recall  f1-score   support\n",
      "\n",
      "           0       0.99      1.00      0.99      2811\n",
      "           1       0.93      0.79      0.85       122\n",
      "\n",
      "    accuracy                           0.99      2933\n",
      "   macro avg       0.96      0.89      0.92      2933\n",
      "weighted avg       0.99      0.99      0.99      2933\n",
      "\n",
      "Model weights saved to 'svm_model_weights_c50.pkl'\n"
     ]
    }
   ],
   "source": [
    "#####################################################\n",
    "C = 50\n",
    "thres = 0.85\n",
    "y_val =  np.where(y_val > thres, 1, 0)\n",
    "y_train = np.where(y_train > thres, 1, 0)\n",
    "\n",
    "save_fp = f'/home/ginger/code/gderiddershanghai/Diffusion-Face/weights/nsfw_weights_{C}.pkl'\n",
    "svm_model = SVC(kernel='rbf', C=C, gamma='scale', random_state=42, probability=True)\n",
    "svm_model.fit(X_train, y_train)\n",
    "\n",
    "y_val_pred = svm_model.predict_proba(X_val)\n",
    "y_val_pred = np.where(y_val_pred[:, 1] > thres, 1, 0)\n",
    "\n",
    "\n",
    "val_accuracy = accuracy_score(y_val, y_val_pred)\n",
    "print(\"Val Acc: \", val_accuracy)\n",
    "print(classification_report(y_val, y_val_pred))\n",
    "\n",
    "# save weights\n",
    "joblib.dump(svm_model, 'svm_model_weights.pkl')\n",
    "print(f\"Model weights saved to 'svm_model_weights_c{C}.pkl'\")"
   ]
  },
  {
   "cell_type": "markdown",
   "id": "0ae9bf68-1712-4484-8f82-ddf3f4af79d6",
   "metadata": {},
   "source": [
    "_______________________"
   ]
  },
  {
   "cell_type": "code",
   "execution_count": 41,
   "id": "8188152f-1147-4669-9cfe-e0882ff5f4fd",
   "metadata": {},
   "outputs": [
    {
     "name": "stdout",
     "output_type": "stream",
     "text": [
      "Val Acc:  0.9901125127855438\n",
      "              precision    recall  f1-score   support\n",
      "\n",
      "           0       0.99      1.00      0.99      2811\n",
      "           1       0.93      0.82      0.87       122\n",
      "\n",
      "    accuracy                           0.99      2933\n",
      "   macro avg       0.96      0.91      0.93      2933\n",
      "weighted avg       0.99      0.99      0.99      2933\n",
      "\n",
      "Model weights saved to 'svm_model_weights_c95.pkl'\n"
     ]
    }
   ],
   "source": [
    "C = 95\n",
    "thres = 0.85\n",
    "y_val =  np.where(y_val > thres, 1, 0)\n",
    "y_train = np.where(y_train > thres, 1, 0)\n",
    "save_fp = f'/home/ginger/code/gderiddershanghai/Diffusion-Face/weights/nsfw_weights_{C}.pkl'\n",
    "svm_model = SVC(kernel='rbf', C=C, gamma='scale', random_state=42, probability=True)\n",
    "svm_model.fit(X_train, y_train)\n",
    "y_val_pred = svm_model.predict_proba(X_val)\n",
    "\n",
    "y_val_pred = np.where(y_val_pred[:, 1] > thres, 1, 0)\n",
    "\n",
    "val_accuracy = accuracy_score(y_val, y_val_pred)\n",
    "print(\"Val Acc: \", val_accuracy)\n",
    "print(classification_report(y_val, y_val_pred))\n",
    "\n",
    "# save weights\n",
    "joblib.dump(svm_model, 'svm_model_weights.pkl')\n",
    "print(f\"Model weights saved to 'svm_model_weights_c{C}.pkl'\")"
   ]
  },
  {
   "cell_type": "code",
   "execution_count": null,
   "id": "9fd7d9ec-facd-4d0f-98c7-a328afe083a1",
   "metadata": {},
   "outputs": [],
   "source": []
  }
 ],
 "metadata": {
  "kernelspec": {
   "display_name": "Python 3 (ipykernel)",
   "language": "python",
   "name": "python3"
  },
  "language_info": {
   "codemirror_mode": {
    "name": "ipython",
    "version": 3
   },
   "file_extension": ".py",
   "mimetype": "text/x-python",
   "name": "python",
   "nbconvert_exporter": "python",
   "pygments_lexer": "ipython3",
   "version": "3.10.6"
  }
 },
 "nbformat": 4,
 "nbformat_minor": 5
}
