{
 "cells": [
  {
   "cell_type": "code",
   "execution_count": 1,
   "id": "6bfc96d1-092d-4973-8b81-eed5ccd8b014",
   "metadata": {},
   "outputs": [],
   "source": [
    "import sys\n",
    "import os\n",
    "sys.path.append(os.path.abspath(os.path.join(os.getcwd(), '..')))\n",
    "from src.text_data_utils.bert_embeddings import BertFeatureExtractor\n",
    "\n",
    "from sklearn.model_selection import train_test_split\n",
    "from sklearn.svm import SVC\n",
    "from sklearn.metrics import classification_report, accuracy_score\n",
    "import numpy as np\n",
    "import pandas as pd\n",
    "import joblib"
   ]
  },
  {
   "cell_type": "code",
   "execution_count": 4,
   "id": "3199ad3c-d934-4f10-bccc-c5737a37d69c",
   "metadata": {},
   "outputs": [
    {
     "name": "stdout",
     "output_type": "stream",
     "text": [
      "'JDB_Face_metadata (1).json'   cleaned_DFDB_Face_metadata.csv\n"
     ]
    }
   ],
   "source": [
    "!ls ../data/text_data/"
   ]
  },
  {
   "cell_type": "code",
   "execution_count": 6,
   "id": "badd9f9f-b4ab-4f89-9fc4-4332219d706a",
   "metadata": {},
   "outputs": [],
   "source": [
    "jdb_fp = '/home/ginger/code/gderiddershanghai/Diffusion-Face/data/text_data/JDB_Face_metadata (1).json'\n",
    "df = pd.read_json(jdb_fp)"
   ]
  },
  {
   "cell_type": "code",
   "execution_count": 10,
   "id": "e5fab2c0-faff-45e2-9f8b-8ebbf81b8506",
   "metadata": {},
   "outputs": [
    {
     "data": {
      "text/html": [
       "<div>\n",
       "<style scoped>\n",
       "    .dataframe tbody tr th:only-of-type {\n",
       "        vertical-align: middle;\n",
       "    }\n",
       "\n",
       "    .dataframe tbody tr th {\n",
       "        vertical-align: top;\n",
       "    }\n",
       "\n",
       "    .dataframe thead th {\n",
       "        text-align: right;\n",
       "    }\n",
       "</style>\n",
       "<table border=\"1\" class=\"dataframe\">\n",
       "  <thead>\n",
       "    <tr style=\"text-align: right;\">\n",
       "      <th></th>\n",
       "      <th>img_path</th>\n",
       "      <th>prompt</th>\n",
       "      <th>Task1</th>\n",
       "      <th>Task2</th>\n",
       "      <th>Task3</th>\n",
       "      <th>ori_prompt</th>\n",
       "      <th>url</th>\n",
       "    </tr>\n",
       "  </thead>\n",
       "  <tbody>\n",
       "    <tr>\n",
       "      <th>0</th>\n",
       "      <td>84174671-387f-4927-9cd3-df194ac4bf79.jpg</td>\n",
       "      <td>character art, agent of chaos, cinematic light...</td>\n",
       "      <td>{'Style': ['cinematic lighting', 'highly detai...</td>\n",
       "      <td>{'Caption': 'A highly detailed digital illustr...</td>\n",
       "      <td>{'Style Relevant Questions and Answers': [{'Qu...</td>\n",
       "      <td>character art, agent of chaos, cinematic light...</td>\n",
       "      <td>https://cdn.discordapp.com/attachments/9954312...</td>\n",
       "    </tr>\n",
       "    <tr>\n",
       "      <th>1</th>\n",
       "      <td>2bb2dbb7-8e63-4cef-ac0a-1590cab19ed2.jpg</td>\n",
       "      <td>Post Malone as Yoda, super realistic, star war...</td>\n",
       "      <td>{'Style': ['super realistic'], 'Content': ['Po...</td>\n",
       "      <td>{'Caption': 'Post Malone takes on the role of ...</td>\n",
       "      <td>{'Style Relevant Questions and Answers': [{'Qu...</td>\n",
       "      <td>Post Malone as Yoda, super realistic, star war...</td>\n",
       "      <td>https://cdn.discordapp.com/attachments/9954312...</td>\n",
       "    </tr>\n",
       "    <tr>\n",
       "      <th>2</th>\n",
       "      <td>2864a9cb-82ce-4501-8306-c9f478533bf7.jpg</td>\n",
       "      <td>Jim Lee style, James Tyler Williams Lincoln Pe...</td>\n",
       "      <td>{'Style': ['Jim Lee style', 'Harlem Renaissanc...</td>\n",
       "      <td>{'Caption': 'In this close-up image rendered i...</td>\n",
       "      <td>{'Style Relevant Questions and Answers': [{'Qu...</td>\n",
       "      <td>Jim Lee style, James Tyler Williams Lincoln Pe...</td>\n",
       "      <td>https://cdn.discordapp.com/attachments/9954312...</td>\n",
       "    </tr>\n",
       "    <tr>\n",
       "      <th>3</th>\n",
       "      <td>513c2b14-6ba7-4cee-b3eb-5d64314c7ffe.jpg</td>\n",
       "      <td>weird Al yankovic as a poodle</td>\n",
       "      <td>{'Style': ['weird', 'poodle'], 'Content': ['Al...</td>\n",
       "      <td>{'Caption': 'Weird Al Yankovic transformed int...</td>\n",
       "      <td>{'Style Relevant Questions and Answers': [{'Qu...</td>\n",
       "      <td>weird Al yankovic as a poodle</td>\n",
       "      <td>https://cdn.discordapp.com/attachments/9954315...</td>\n",
       "    </tr>\n",
       "    <tr>\n",
       "      <th>4</th>\n",
       "      <td>2e59debf-5727-4c9c-bc42-3e2b2559b8bb.jpg</td>\n",
       "      <td>hindu</td>\n",
       "      <td>{'Style': ['Hindu art', 'Indian style', 'Relig...</td>\n",
       "      <td>{'Caption': 'A depiction of Hindu deities in a...</td>\n",
       "      <td>{'Style Relevant Questions and Answers': [{'Qu...</td>\n",
       "      <td>hindu --v 4</td>\n",
       "      <td>https://cdn.discordapp.com/attachments/9954315...</td>\n",
       "    </tr>\n",
       "  </tbody>\n",
       "</table>\n",
       "</div>"
      ],
      "text/plain": [
       "                                   img_path  \\\n",
       "0  84174671-387f-4927-9cd3-df194ac4bf79.jpg   \n",
       "1  2bb2dbb7-8e63-4cef-ac0a-1590cab19ed2.jpg   \n",
       "2  2864a9cb-82ce-4501-8306-c9f478533bf7.jpg   \n",
       "3  513c2b14-6ba7-4cee-b3eb-5d64314c7ffe.jpg   \n",
       "4  2e59debf-5727-4c9c-bc42-3e2b2559b8bb.jpg   \n",
       "\n",
       "                                              prompt  \\\n",
       "0  character art, agent of chaos, cinematic light...   \n",
       "1  Post Malone as Yoda, super realistic, star war...   \n",
       "2  Jim Lee style, James Tyler Williams Lincoln Pe...   \n",
       "3                      weird Al yankovic as a poodle   \n",
       "4                                              hindu   \n",
       "\n",
       "                                               Task1  \\\n",
       "0  {'Style': ['cinematic lighting', 'highly detai...   \n",
       "1  {'Style': ['super realistic'], 'Content': ['Po...   \n",
       "2  {'Style': ['Jim Lee style', 'Harlem Renaissanc...   \n",
       "3  {'Style': ['weird', 'poodle'], 'Content': ['Al...   \n",
       "4  {'Style': ['Hindu art', 'Indian style', 'Relig...   \n",
       "\n",
       "                                               Task2  \\\n",
       "0  {'Caption': 'A highly detailed digital illustr...   \n",
       "1  {'Caption': 'Post Malone takes on the role of ...   \n",
       "2  {'Caption': 'In this close-up image rendered i...   \n",
       "3  {'Caption': 'Weird Al Yankovic transformed int...   \n",
       "4  {'Caption': 'A depiction of Hindu deities in a...   \n",
       "\n",
       "                                               Task3  \\\n",
       "0  {'Style Relevant Questions and Answers': [{'Qu...   \n",
       "1  {'Style Relevant Questions and Answers': [{'Qu...   \n",
       "2  {'Style Relevant Questions and Answers': [{'Qu...   \n",
       "3  {'Style Relevant Questions and Answers': [{'Qu...   \n",
       "4  {'Style Relevant Questions and Answers': [{'Qu...   \n",
       "\n",
       "                                          ori_prompt  \\\n",
       "0  character art, agent of chaos, cinematic light...   \n",
       "1  Post Malone as Yoda, super realistic, star war...   \n",
       "2  Jim Lee style, James Tyler Williams Lincoln Pe...   \n",
       "3                      weird Al yankovic as a poodle   \n",
       "4                                        hindu --v 4   \n",
       "\n",
       "                                                 url  \n",
       "0  https://cdn.discordapp.com/attachments/9954312...  \n",
       "1  https://cdn.discordapp.com/attachments/9954312...  \n",
       "2  https://cdn.discordapp.com/attachments/9954312...  \n",
       "3  https://cdn.discordapp.com/attachments/9954315...  \n",
       "4  https://cdn.discordapp.com/attachments/9954315...  "
      ]
     },
     "execution_count": 10,
     "metadata": {},
     "output_type": "execute_result"
    }
   ],
   "source": [
    "df.head()"
   ]
  },
  {
   "cell_type": "code",
   "execution_count": 12,
   "id": "e608255a-ee3b-4a58-a88a-2d977a1c878b",
   "metadata": {},
   "outputs": [
    {
     "name": "stderr",
     "output_type": "stream",
     "text": [
      "/home/ginger/.pyenv/versions/3.10.6/lib/python3.10/site-packages/huggingface_hub/file_download.py:797: FutureWarning: `resume_download` is deprecated and will be removed in version 1.0.0. Downloads always resume when possible. If you want to force a new download, use `force_download=True`.\n",
      "  warnings.warn(\n",
      "Some weights of the model checkpoint at bert-base-uncased were not used when initializing BertModel: ['cls.predictions.transform.LayerNorm.weight', 'cls.predictions.transform.dense.weight', 'cls.seq_relationship.bias', 'cls.predictions.transform.LayerNorm.bias', 'cls.predictions.transform.dense.bias', 'cls.seq_relationship.weight', 'cls.predictions.bias']\n",
      "- This IS expected if you are initializing BertModel from the checkpoint of a model trained on another task or with another architecture (e.g. initializing a BertForSequenceClassification model from a BertForPreTraining model).\n",
      "- This IS NOT expected if you are initializing BertModel from the checkpoint of a model that you expect to be exactly identical (initializing a BertForSequenceClassification model from a BertForSequenceClassification model).\n"
     ]
    }
   ],
   "source": [
    "extractor = BertFeatureExtractor()\n",
    "# new_embeddings = extractor.transform(df, text_column=text_column)\n",
    "\n",
    "# #load model\n",
    "# model = joblib.load(model_path)\n",
    "# new_predictions_prob = model.predict_proba(new_embeddings)\n",
    "# new_predictions = np.where(new_predictions_prob[:, 1] > threshold, 1, 0)\n",
    "\n",
    "# df['nsfw_prediction'] = new_predictions\n",
    "# df.to_csv(save_path, index=False)\n"
   ]
  },
  {
   "cell_type": "code",
   "execution_count": 13,
   "id": "cac51920-e899-4ffb-860b-08d020f632a2",
   "metadata": {},
   "outputs": [
    {
     "data": {
      "application/vnd.jupyter.widget-view+json": {
       "model_id": "d7ffb50edf0e4bb4baa7e6e2b8f8520b",
       "version_major": 2,
       "version_minor": 0
      },
      "text/plain": [
       "  0%|          | 0/61983 [00:00<?, ?it/s]"
      ]
     },
     "metadata": {},
     "output_type": "display_data"
    }
   ],
   "source": [
    "new_embeddings = extractor.transform(df, text_column='prompt')"
   ]
  },
  {
   "cell_type": "code",
   "execution_count": 17,
   "id": "86b4565f-01e0-49b7-96f7-dccdb93867b6",
   "metadata": {},
   "outputs": [],
   "source": [
    "df['nsfw'] = np.nan\n",
    "df['contains_person'] = np.nan"
   ]
  },
  {
   "cell_type": "code",
   "execution_count": 19,
   "id": "5a3503b7-485e-4ebc-8ef0-696d7d021ce2",
   "metadata": {},
   "outputs": [],
   "source": [
    "df = df[['img_path', 'prompt', 'nsfw', 'contains_person']]"
   ]
  },
  {
   "cell_type": "code",
   "execution_count": 21,
   "id": "9009c605-65a5-4763-9cfc-db9f5e1e2a59",
   "metadata": {},
   "outputs": [
    {
     "ename": "NameError",
     "evalue": "name 'threshold' is not defined",
     "output_type": "error",
     "traceback": [
      "\u001b[0;31m---------------------------------------------------------------------------\u001b[0m",
      "\u001b[0;31mNameError\u001b[0m                                 Traceback (most recent call last)",
      "Cell \u001b[0;32mIn [21], line 4\u001b[0m\n\u001b[1;32m      2\u001b[0m model \u001b[38;5;241m=\u001b[39m joblib\u001b[38;5;241m.\u001b[39mload(model_path)\n\u001b[1;32m      3\u001b[0m new_predictions_prob \u001b[38;5;241m=\u001b[39m model\u001b[38;5;241m.\u001b[39mpredict_proba(new_embeddings)\n\u001b[0;32m----> 4\u001b[0m new_predictions \u001b[38;5;241m=\u001b[39m np\u001b[38;5;241m.\u001b[39mwhere(new_predictions_prob[:, \u001b[38;5;241m1\u001b[39m] \u001b[38;5;241m>\u001b[39m \u001b[43mthreshold\u001b[49m, \u001b[38;5;241m1\u001b[39m, \u001b[38;5;241m0\u001b[39m)\n",
      "\u001b[0;31mNameError\u001b[0m: name 'threshold' is not defined"
     ]
    }
   ],
   "source": [
    "model_path = '/home/ginger/code/gderiddershanghai/Diffusion-Face/weights/svm_model_weights_nsfw.pkl'\n",
    "model = joblib.load(model_path)\n",
    "new_predictions_prob = model.predict_proba(new_embeddings)\n"
   ]
  },
  {
   "cell_type": "code",
   "execution_count": 23,
   "id": "618c528b-7a55-48c2-9931-8a2993a37add",
   "metadata": {},
   "outputs": [],
   "source": [
    "threshold = 0.85\n",
    "new_predictions = np.where(new_predictions_prob[:, 1] > threshold, 1, 0)"
   ]
  },
  {
   "cell_type": "code",
   "execution_count": 24,
   "id": "69e1b670-6c1a-4698-8d3e-5adfbb47d59f",
   "metadata": {},
   "outputs": [],
   "source": [
    "save_path = '/home/ginger/code/gderiddershanghai/Diffusion-Face/data/text_data/JDB_Face.csv'\n",
    "df['nsfw_prediction'] = new_predictions\n",
    "df.to_csv(save_path, index=False)"
   ]
  },
  {
   "cell_type": "code",
   "execution_count": 25,
   "id": "0111115b-0501-4462-9f73-b3a08dacc856",
   "metadata": {},
   "outputs": [
    {
     "data": {
      "text/html": [
       "<div>\n",
       "<style scoped>\n",
       "    .dataframe tbody tr th:only-of-type {\n",
       "        vertical-align: middle;\n",
       "    }\n",
       "\n",
       "    .dataframe tbody tr th {\n",
       "        vertical-align: top;\n",
       "    }\n",
       "\n",
       "    .dataframe thead th {\n",
       "        text-align: right;\n",
       "    }\n",
       "</style>\n",
       "<table border=\"1\" class=\"dataframe\">\n",
       "  <thead>\n",
       "    <tr style=\"text-align: right;\">\n",
       "      <th></th>\n",
       "      <th>img_path</th>\n",
       "      <th>prompt</th>\n",
       "      <th>nsfw</th>\n",
       "      <th>contains_person</th>\n",
       "      <th>nsfw_prediction</th>\n",
       "    </tr>\n",
       "  </thead>\n",
       "  <tbody>\n",
       "    <tr>\n",
       "      <th>0</th>\n",
       "      <td>84174671-387f-4927-9cd3-df194ac4bf79.jpg</td>\n",
       "      <td>character art, agent of chaos, cinematic light...</td>\n",
       "      <td>NaN</td>\n",
       "      <td>NaN</td>\n",
       "      <td>0</td>\n",
       "    </tr>\n",
       "    <tr>\n",
       "      <th>1</th>\n",
       "      <td>2bb2dbb7-8e63-4cef-ac0a-1590cab19ed2.jpg</td>\n",
       "      <td>Post Malone as Yoda, super realistic, star war...</td>\n",
       "      <td>NaN</td>\n",
       "      <td>NaN</td>\n",
       "      <td>0</td>\n",
       "    </tr>\n",
       "    <tr>\n",
       "      <th>2</th>\n",
       "      <td>2864a9cb-82ce-4501-8306-c9f478533bf7.jpg</td>\n",
       "      <td>Jim Lee style, James Tyler Williams Lincoln Pe...</td>\n",
       "      <td>NaN</td>\n",
       "      <td>NaN</td>\n",
       "      <td>0</td>\n",
       "    </tr>\n",
       "    <tr>\n",
       "      <th>3</th>\n",
       "      <td>513c2b14-6ba7-4cee-b3eb-5d64314c7ffe.jpg</td>\n",
       "      <td>weird Al yankovic as a poodle</td>\n",
       "      <td>NaN</td>\n",
       "      <td>NaN</td>\n",
       "      <td>0</td>\n",
       "    </tr>\n",
       "    <tr>\n",
       "      <th>4</th>\n",
       "      <td>2e59debf-5727-4c9c-bc42-3e2b2559b8bb.jpg</td>\n",
       "      <td>hindu</td>\n",
       "      <td>NaN</td>\n",
       "      <td>NaN</td>\n",
       "      <td>0</td>\n",
       "    </tr>\n",
       "  </tbody>\n",
       "</table>\n",
       "</div>"
      ],
      "text/plain": [
       "                                   img_path  \\\n",
       "0  84174671-387f-4927-9cd3-df194ac4bf79.jpg   \n",
       "1  2bb2dbb7-8e63-4cef-ac0a-1590cab19ed2.jpg   \n",
       "2  2864a9cb-82ce-4501-8306-c9f478533bf7.jpg   \n",
       "3  513c2b14-6ba7-4cee-b3eb-5d64314c7ffe.jpg   \n",
       "4  2e59debf-5727-4c9c-bc42-3e2b2559b8bb.jpg   \n",
       "\n",
       "                                              prompt  nsfw  contains_person  \\\n",
       "0  character art, agent of chaos, cinematic light...   NaN              NaN   \n",
       "1  Post Malone as Yoda, super realistic, star war...   NaN              NaN   \n",
       "2  Jim Lee style, James Tyler Williams Lincoln Pe...   NaN              NaN   \n",
       "3                      weird Al yankovic as a poodle   NaN              NaN   \n",
       "4                                              hindu   NaN              NaN   \n",
       "\n",
       "   nsfw_prediction  \n",
       "0                0  \n",
       "1                0  \n",
       "2                0  \n",
       "3                0  \n",
       "4                0  "
      ]
     },
     "execution_count": 25,
     "metadata": {},
     "output_type": "execute_result"
    }
   ],
   "source": [
    "df.head()"
   ]
  }
 ],
 "metadata": {
  "kernelspec": {
   "display_name": "Python 3 (ipykernel)",
   "language": "python",
   "name": "python3"
  },
  "language_info": {
   "codemirror_mode": {
    "name": "ipython",
    "version": 3
   },
   "file_extension": ".py",
   "mimetype": "text/x-python",
   "name": "python",
   "nbconvert_exporter": "python",
   "pygments_lexer": "ipython3",
   "version": "3.10.6"
  }
 },
 "nbformat": 4,
 "nbformat_minor": 5
}
